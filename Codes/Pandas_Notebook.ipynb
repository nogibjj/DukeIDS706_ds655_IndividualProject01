{
 "cells": [
  {
   "cell_type": "code",
   "execution_count": 1,
   "metadata": {},
   "outputs": [],
   "source": [
    "# Importing Packages\n",
    "import pandas as pd\n",
    "\n",
    "# import os\n",
    "# import sys\n",
    "\n",
    "# %run test_graph.ipynb\n",
    "# sys.path.insert(0, \"./Codes/\")\n",
    "from lib import PandasDescription  # Custom Library\n",
    "\n",
    "# sys.path.pop()"
   ]
  },
  {
   "cell_type": "code",
   "execution_count": 2,
   "metadata": {},
   "outputs": [
    {
     "name": "stdout",
     "output_type": "stream",
     "text": [
      "   sepal_length  sepal_width  petal_length  petal_width      species\n",
      "0           5.1          3.5           1.4          0.2  Iris-setosa\n",
      "1           4.9          3.0           1.4          0.2  Iris-setosa\n",
      "2           4.7          3.2           1.3          0.2  Iris-setosa\n",
      "3           4.6          3.1           1.5          0.2  Iris-setosa\n",
      "4           5.0          3.6           1.4          0.2  Iris-setosa\n"
     ]
    }
   ],
   "source": [
    "def test_PandasNB():\n",
    "    #   Reading Source Data from the Github Link\n",
    "    DataSource_Link = \"https://raw.githubusercontent.com/Opensourcefordatascience/Data-sets/master/Iris_Data.csv\"\n",
    "    data_s = pd.read_csv(DataSource_Link)\n",
    "    df_s = pd.DataFrame(data_s)\n",
    "    print(df_s.head())\n",
    "    # sys.path.insert(0, \"/workspaces/DukeIDS706_ds655_IndividualProject01/\")\n",
    "    # sys.path.insert(0, \"../\")\n",
    "\n",
    "    PandasDescription(df_s)\n",
    "    #   Reading the Reference Data from the Resources Folder\n",
    "    DataReference_Link = \"../Resources/Iris_Data.csv\"\n",
    "    data_r = pd.read_csv(DataReference_Link)\n",
    "    df_r = pd.DataFrame(data_r)\n",
    "\n",
    "    assert PandasDescription(df_r).equals(df_s.describe())\n",
    "\n",
    "\n",
    "test_PandasNB()\n"
   ]
  }
 ],
 "metadata": {
  "kernelspec": {
   "display_name": "Python 3",
   "language": "python",
   "name": "python3"
  },
  "language_info": {
   "codemirror_mode": {
    "name": "ipython",
    "version": 3
   },
   "file_extension": ".py",
   "mimetype": "text/x-python",
   "name": "python",
   "nbconvert_exporter": "python",
   "pygments_lexer": "ipython3",
   "version": "3.10.12"
  },
  "orig_nbformat": 4
 },
 "nbformat": 4,
 "nbformat_minor": 2
}
