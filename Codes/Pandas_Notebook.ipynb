{
 "cells": [
  {
   "cell_type": "code",
   "execution_count": 4,
   "metadata": {},
   "outputs": [],
   "source": [
    "# Importing Packages\n",
    "import pandas as pd\n",
    "import os\n",
    "import sys\n",
    "\n",
    "# %run test_graph.ipynb\n",
    "# sys.path.insert(0, \"./Codes/\")\n",
    "from lib import PandasDescription  # Custom Library\n",
    "\n",
    "# sys.path.pop()\n"
   ]
  },
  {
   "cell_type": "code",
   "execution_count": 5,
   "metadata": {},
   "outputs": [
    {
     "name": "stdout",
     "output_type": "stream",
     "text": [
      "   sepal_length  sepal_width  petal_length  petal_width      species\n",
      "0           5.1          3.5           1.4          0.2  Iris-setosa\n",
      "1           4.9          3.0           1.4          0.2  Iris-setosa\n",
      "2           4.7          3.2           1.3          0.2  Iris-setosa\n",
      "3           4.6          3.1           1.5          0.2  Iris-setosa\n",
      "4           5.0          3.6           1.4          0.2  Iris-setosa\n"
     ]
    },
    {
     "ename": "FileNotFoundError",
     "evalue": "[Errno 2] No such file or directory: './Outputs/Summary.md'",
     "output_type": "error",
     "traceback": [
      "\u001b[0;31m---------------------------------------------------------------------------\u001b[0m",
      "\u001b[0;31mFileNotFoundError\u001b[0m                         Traceback (most recent call last)",
      "\u001b[1;32m/workspaces/DukeIDS706_ds655_IndividualProject01/Codes/Pandas_Notebook.ipynb Cell 2\u001b[0m line \u001b[0;36m1\n\u001b[1;32m     <a href='vscode-notebook-cell://codespaces%2Breimagined-zebra-q7q6rg465g6j265wj/workspaces/DukeIDS706_ds655_IndividualProject01/Codes/Pandas_Notebook.ipynb#W3sdnNjb2RlLXJlbW90ZQ%3D%3D?line=13'>14</a>\u001b[0m     df_r \u001b[39m=\u001b[39m pd\u001b[39m.\u001b[39mDataFrame(data_r)\n\u001b[1;32m     <a href='vscode-notebook-cell://codespaces%2Breimagined-zebra-q7q6rg465g6j265wj/workspaces/DukeIDS706_ds655_IndividualProject01/Codes/Pandas_Notebook.ipynb#W3sdnNjb2RlLXJlbW90ZQ%3D%3D?line=15'>16</a>\u001b[0m     \u001b[39massert\u001b[39;00m PandasDescription(df_r)\u001b[39m.\u001b[39mequals(df_s\u001b[39m.\u001b[39mdescribe())\n\u001b[0;32m---> <a href='vscode-notebook-cell://codespaces%2Breimagined-zebra-q7q6rg465g6j265wj/workspaces/DukeIDS706_ds655_IndividualProject01/Codes/Pandas_Notebook.ipynb#W3sdnNjb2RlLXJlbW90ZQ%3D%3D?line=18'>19</a>\u001b[0m test_PandasNB()\n",
      "\u001b[1;32m/workspaces/DukeIDS706_ds655_IndividualProject01/Codes/Pandas_Notebook.ipynb Cell 2\u001b[0m line \u001b[0;36m1\n\u001b[1;32m      <a href='vscode-notebook-cell://codespaces%2Breimagined-zebra-q7q6rg465g6j265wj/workspaces/DukeIDS706_ds655_IndividualProject01/Codes/Pandas_Notebook.ipynb#W3sdnNjb2RlLXJlbW90ZQ%3D%3D?line=5'>6</a>\u001b[0m \u001b[39mprint\u001b[39m(df_s\u001b[39m.\u001b[39mhead())\n\u001b[1;32m      <a href='vscode-notebook-cell://codespaces%2Breimagined-zebra-q7q6rg465g6j265wj/workspaces/DukeIDS706_ds655_IndividualProject01/Codes/Pandas_Notebook.ipynb#W3sdnNjb2RlLXJlbW90ZQ%3D%3D?line=6'>7</a>\u001b[0m \u001b[39m# sys.path.insert(0, \"/workspaces/DukeIDS706_ds655_IndividualProject01/\")\u001b[39;00m\n\u001b[1;32m      <a href='vscode-notebook-cell://codespaces%2Breimagined-zebra-q7q6rg465g6j265wj/workspaces/DukeIDS706_ds655_IndividualProject01/Codes/Pandas_Notebook.ipynb#W3sdnNjb2RlLXJlbW90ZQ%3D%3D?line=7'>8</a>\u001b[0m \u001b[39m# sys.path.insert(0, \"../\")\u001b[39;00m\n\u001b[0;32m---> <a href='vscode-notebook-cell://codespaces%2Breimagined-zebra-q7q6rg465g6j265wj/workspaces/DukeIDS706_ds655_IndividualProject01/Codes/Pandas_Notebook.ipynb#W3sdnNjb2RlLXJlbW90ZQ%3D%3D?line=9'>10</a>\u001b[0m PandasDesc(df_s)\n\u001b[1;32m     <a href='vscode-notebook-cell://codespaces%2Breimagined-zebra-q7q6rg465g6j265wj/workspaces/DukeIDS706_ds655_IndividualProject01/Codes/Pandas_Notebook.ipynb#W3sdnNjb2RlLXJlbW90ZQ%3D%3D?line=10'>11</a>\u001b[0m \u001b[39m#   Reading the Reference Data from the Resources Folder\u001b[39;00m\n\u001b[1;32m     <a href='vscode-notebook-cell://codespaces%2Breimagined-zebra-q7q6rg465g6j265wj/workspaces/DukeIDS706_ds655_IndividualProject01/Codes/Pandas_Notebook.ipynb#W3sdnNjb2RlLXJlbW90ZQ%3D%3D?line=11'>12</a>\u001b[0m DataReference_Link \u001b[39m=\u001b[39m \u001b[39m\"\u001b[39m\u001b[39m../Resources/Iris_Data.csv\u001b[39m\u001b[39m\"\u001b[39m\n",
      "File \u001b[0;32m/workspaces/DukeIDS706_ds655_IndividualProject01/Codes/lib.py:45\u001b[0m, in \u001b[0;36mPandasDesc\u001b[0;34m(df)\u001b[0m\n\u001b[1;32m     43\u001b[0m \u001b[39mif\u001b[39;00m os\u001b[39m.\u001b[39mpath\u001b[39m.\u001b[39misfile(\u001b[39m\"\u001b[39m\u001b[39m./Outputs/Summary.md\u001b[39m\u001b[39m\"\u001b[39m):\n\u001b[1;32m     44\u001b[0m     os\u001b[39m.\u001b[39mremove(\u001b[39m\"\u001b[39m\u001b[39m./Outputs/Summary.md\u001b[39m\u001b[39m\"\u001b[39m)\n\u001b[0;32m---> 45\u001b[0m f \u001b[39m=\u001b[39m \u001b[39mopen\u001b[39;49m(\n\u001b[1;32m     46\u001b[0m     \u001b[39m\"\u001b[39;49m\u001b[39m./Outputs/Summary.md\u001b[39;49m\u001b[39m\"\u001b[39;49m,\n\u001b[1;32m     47\u001b[0m     \u001b[39m\"\u001b[39;49m\u001b[39mw\u001b[39;49m\u001b[39m\"\u001b[39;49m,\n\u001b[1;32m     48\u001b[0m     encoding\u001b[39m=\u001b[39;49m\u001b[39m\"\u001b[39;49m\u001b[39mutf-8\u001b[39;49m\u001b[39m\"\u001b[39;49m,\n\u001b[1;32m     49\u001b[0m )\n\u001b[1;32m     50\u001b[0m f\u001b[39m.\u001b[39mflush()\n\u001b[1;32m     51\u001b[0m d \u001b[39m=\u001b[39m df\u001b[39m.\u001b[39mdescribe()\n",
      "\u001b[0;31mFileNotFoundError\u001b[0m: [Errno 2] No such file or directory: './Outputs/Summary.md'"
     ]
    }
   ],
   "source": [
    "def test_PandasNB():\n",
    "    #   Reading Source Data from the Github Link\n",
    "    DataSource_Link = \"https://raw.githubusercontent.com/Opensourcefordatascience/Data-sets/master/Iris_Data.csv\"\n",
    "    data_s = pd.read_csv(DataSource_Link)\n",
    "    df_s = pd.DataFrame(data_s)\n",
    "    print(df_s.head())\n",
    "    # sys.path.insert(0, \"/workspaces/DukeIDS706_ds655_IndividualProject01/\")\n",
    "    # sys.path.insert(0, \"../\")\n",
    "\n",
    "    test_PandasNB(df_s)\n",
    "    #   Reading the Reference Data from the Resources Folder\n",
    "    DataReference_Link = \"../Resources/Iris_Data.csv\"\n",
    "    data_r = pd.read_csv(DataReference_Link)\n",
    "    df_r = pd.DataFrame(data_r)\n",
    "\n",
    "    assert PandasDescription(df_r).equals(df_s.describe())\n",
    "\n",
    "\n",
    "test_PandasNB()"
   ]
  }
 ],
 "metadata": {
  "kernelspec": {
   "display_name": "Python 3",
   "language": "python",
   "name": "python3"
  },
  "language_info": {
   "codemirror_mode": {
    "name": "ipython",
    "version": 3
   },
   "file_extension": ".py",
   "mimetype": "text/x-python",
   "name": "python",
   "nbconvert_exporter": "python",
   "pygments_lexer": "ipython3",
   "version": "3.10.12"
  },
  "orig_nbformat": 4
 },
 "nbformat": 4,
 "nbformat_minor": 2
}
