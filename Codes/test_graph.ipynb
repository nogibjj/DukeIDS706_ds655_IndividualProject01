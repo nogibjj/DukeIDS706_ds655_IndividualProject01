{
 "cells": [
  {
   "cell_type": "code",
   "execution_count": null,
   "metadata": {},
   "outputs": [],
   "source": [
    "import matplotlib.pyplot as plt\n",
    "import datetime\n",
    "import os\n"
   ]
  },
  {
   "cell_type": "code",
   "execution_count": null,
   "metadata": {},
   "outputs": [],
   "source": [
    "#  Creating a function to build a scatterplot for the Iris dataset\n",
    "def PandasPlotNB(df):\n",
    "    groups = df.groupby(\"species\")\n",
    "    fig, ax = plt.subplots()\n",
    "    for name, group in groups:\n",
    "        ax.plot(\n",
    "            group.sepal_length,\n",
    "            group.sepal_width,\n",
    "            marker=\"o\",\n",
    "            linestyle=\"\",\n",
    "            ms=12,\n",
    "            label=name,\n",
    "        )\n",
    "    ax.legend()\n",
    "    fig.suptitle(\n",
    "        \"Distribution of Sepal Length and Sepal Width\\n generated on - \"\n",
    "        + str(datetime.datetime.now())\n",
    "    )\n",
    "    plt.xlabel(\"Sepal Length\")\n",
    "    plt.ylabel(\"Sepal Width\")\n",
    "    plt.show()\n",
    "    if os.path.isfile(\"../Outputs/PlotImage_from_NB.png.png\"):\n",
    "        os.remove(\"../Outputs/PlotImage_from_NB.png\")\n",
    "    plt.savefig(\"../Outputs/PlotImage_from_NB.png\")\n",
    "    print(\"Pasted Plot from Notebook to Outputs folder\")"
   ]
  }
 ],
 "metadata": {
  "language_info": {
   "name": "python"
  },
  "orig_nbformat": 4
 },
 "nbformat": 4,
 "nbformat_minor": 2
}
